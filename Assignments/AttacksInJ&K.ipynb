{
 "cells": [
  {
   "attachments": {},
   "cell_type": "markdown",
   "metadata": {},
   "source": [
    "``` we have to find the  city in Jammu and Kashmir  having  max number of attacks and which group attacked them```"
   ]
  },
  {
   "cell_type": "code",
   "execution_count": 1,
   "metadata": {},
   "outputs": [],
   "source": [
    "\n",
    "import pandas as pd\n"
   ]
  },
  {
   "cell_type": "code",
   "execution_count": 2,
   "metadata": {},
   "outputs": [],
   "source": [
    "path = pd.read_csv('terrorismData.csv')\n"
   ]
  },
  {
   "cell_type": "code",
   "execution_count": 3,
   "metadata": {},
   "outputs": [],
   "source": [
    "df = path"
   ]
  },
  {
   "cell_type": "code",
   "execution_count": 4,
   "metadata": {},
   "outputs": [],
   "source": [
    "# lets try to get the State Jammu and Kashmir\n",
    "df = df[df['State'] == 'Jammu and Kashmir']"
   ]
  },
  {
   "cell_type": "code",
   "execution_count": 5,
   "metadata": {},
   "outputs": [
    {
     "data": {
      "text/html": [
       "<div>\n",
       "<style scoped>\n",
       "    .dataframe tbody tr th:only-of-type {\n",
       "        vertical-align: middle;\n",
       "    }\n",
       "\n",
       "    .dataframe tbody tr th {\n",
       "        vertical-align: top;\n",
       "    }\n",
       "\n",
       "    .dataframe thead th {\n",
       "        text-align: right;\n",
       "    }\n",
       "</style>\n",
       "<table border=\"1\" class=\"dataframe\">\n",
       "  <thead>\n",
       "    <tr style=\"text-align: right;\">\n",
       "      <th></th>\n",
       "      <th>Year</th>\n",
       "      <th>Month</th>\n",
       "      <th>Day</th>\n",
       "      <th>Country</th>\n",
       "      <th>State</th>\n",
       "      <th>Region</th>\n",
       "      <th>City</th>\n",
       "      <th>Latitude</th>\n",
       "      <th>Longitude</th>\n",
       "      <th>AttackType</th>\n",
       "      <th>Killed</th>\n",
       "      <th>Wounded</th>\n",
       "      <th>Target</th>\n",
       "      <th>Summary</th>\n",
       "      <th>Group</th>\n",
       "      <th>Target_type</th>\n",
       "      <th>Weapon_type</th>\n",
       "    </tr>\n",
       "  </thead>\n",
       "  <tbody>\n",
       "    <tr>\n",
       "      <th>21744</th>\n",
       "      <td>1984</td>\n",
       "      <td>4</td>\n",
       "      <td>17</td>\n",
       "      <td>India</td>\n",
       "      <td>Jammu and Kashmir</td>\n",
       "      <td>South Asia</td>\n",
       "      <td>Bhela</td>\n",
       "      <td>33.315527</td>\n",
       "      <td>74.622476</td>\n",
       "      <td>Assassination</td>\n",
       "      <td>2.0</td>\n",
       "      <td>0.0</td>\n",
       "      <td>Gurbachan Singh Sandhar (Sikh lawyer) and wife</td>\n",
       "      <td>NaN</td>\n",
       "      <td>Sikh Extremists</td>\n",
       "      <td>Private Citizens &amp; Property</td>\n",
       "      <td>Unknown</td>\n",
       "    </tr>\n",
       "    <tr>\n",
       "      <th>22108</th>\n",
       "      <td>1984</td>\n",
       "      <td>5</td>\n",
       "      <td>20</td>\n",
       "      <td>India</td>\n",
       "      <td>Jammu and Kashmir</td>\n",
       "      <td>South Asia</td>\n",
       "      <td>Jammu</td>\n",
       "      <td>32.726602</td>\n",
       "      <td>74.857026</td>\n",
       "      <td>Bombing/Explosion</td>\n",
       "      <td>1.0</td>\n",
       "      <td>0.0</td>\n",
       "      <td>bridge over a stream</td>\n",
       "      <td>NaN</td>\n",
       "      <td>Unknown</td>\n",
       "      <td>Transportation</td>\n",
       "      <td>Explosives</td>\n",
       "    </tr>\n",
       "    <tr>\n",
       "      <th>29677</th>\n",
       "      <td>1986</td>\n",
       "      <td>12</td>\n",
       "      <td>11</td>\n",
       "      <td>India</td>\n",
       "      <td>Jammu and Kashmir</td>\n",
       "      <td>South Asia</td>\n",
       "      <td>Madora</td>\n",
       "      <td>33.934929</td>\n",
       "      <td>75.154160</td>\n",
       "      <td>Bombing/Explosion</td>\n",
       "      <td>1.0</td>\n",
       "      <td>5.0</td>\n",
       "      <td>general post office complex</td>\n",
       "      <td>NaN</td>\n",
       "      <td>Unknown</td>\n",
       "      <td>Government (General)</td>\n",
       "      <td>Unknown</td>\n",
       "    </tr>\n",
       "    <tr>\n",
       "      <th>33202</th>\n",
       "      <td>1988</td>\n",
       "      <td>1</td>\n",
       "      <td>21</td>\n",
       "      <td>India</td>\n",
       "      <td>Jammu and Kashmir</td>\n",
       "      <td>South Asia</td>\n",
       "      <td>Mand</td>\n",
       "      <td>32.888165</td>\n",
       "      <td>74.985168</td>\n",
       "      <td>Armed Assault</td>\n",
       "      <td>2.0</td>\n",
       "      <td>0.0</td>\n",
       "      <td>police unit</td>\n",
       "      <td>NaN</td>\n",
       "      <td>Unknown</td>\n",
       "      <td>Police</td>\n",
       "      <td>Firearms</td>\n",
       "    </tr>\n",
       "    <tr>\n",
       "      <th>33372</th>\n",
       "      <td>1988</td>\n",
       "      <td>2</td>\n",
       "      <td>7</td>\n",
       "      <td>India</td>\n",
       "      <td>Jammu and Kashmir</td>\n",
       "      <td>South Asia</td>\n",
       "      <td>Kherawali</td>\n",
       "      <td>32.523889</td>\n",
       "      <td>74.974444</td>\n",
       "      <td>Armed Assault</td>\n",
       "      <td>4.0</td>\n",
       "      <td>5.0</td>\n",
       "      <td>marriage reception</td>\n",
       "      <td>NaN</td>\n",
       "      <td>Sikh Extremists</td>\n",
       "      <td>Private Citizens &amp; Property</td>\n",
       "      <td>Firearms</td>\n",
       "    </tr>\n",
       "  </tbody>\n",
       "</table>\n",
       "</div>"
      ],
      "text/plain": [
       "       Year  Month  Day Country              State      Region       City  \\\n",
       "21744  1984      4   17   India  Jammu and Kashmir  South Asia      Bhela   \n",
       "22108  1984      5   20   India  Jammu and Kashmir  South Asia      Jammu   \n",
       "29677  1986     12   11   India  Jammu and Kashmir  South Asia     Madora   \n",
       "33202  1988      1   21   India  Jammu and Kashmir  South Asia       Mand   \n",
       "33372  1988      2    7   India  Jammu and Kashmir  South Asia  Kherawali   \n",
       "\n",
       "        Latitude  Longitude         AttackType  Killed  Wounded  \\\n",
       "21744  33.315527  74.622476      Assassination     2.0      0.0   \n",
       "22108  32.726602  74.857026  Bombing/Explosion     1.0      0.0   \n",
       "29677  33.934929  75.154160  Bombing/Explosion     1.0      5.0   \n",
       "33202  32.888165  74.985168      Armed Assault     2.0      0.0   \n",
       "33372  32.523889  74.974444      Armed Assault     4.0      5.0   \n",
       "\n",
       "                                               Target Summary  \\\n",
       "21744  Gurbachan Singh Sandhar (Sikh lawyer) and wife     NaN   \n",
       "22108                            bridge over a stream     NaN   \n",
       "29677                     general post office complex     NaN   \n",
       "33202                                     police unit     NaN   \n",
       "33372                              marriage reception     NaN   \n",
       "\n",
       "                 Group                  Target_type Weapon_type  \n",
       "21744  Sikh Extremists  Private Citizens & Property     Unknown  \n",
       "22108          Unknown               Transportation  Explosives  \n",
       "29677          Unknown         Government (General)     Unknown  \n",
       "33202          Unknown                       Police    Firearms  \n",
       "33372  Sikh Extremists  Private Citizens & Property    Firearms  "
      ]
     },
     "execution_count": 5,
     "metadata": {},
     "output_type": "execute_result"
    }
   ],
   "source": [
    "df.head()"
   ]
  },
  {
   "cell_type": "code",
   "execution_count": 12,
   "metadata": {},
   "outputs": [],
   "source": [
    "city_list = df['City'].value_counts() # we are getting the city in Descending order"
   ]
  },
  {
   "cell_type": "code",
   "execution_count": 13,
   "metadata": {},
   "outputs": [],
   "source": [
    "city = city_list.index[0]"
   ]
  },
  {
   "cell_type": "code",
   "execution_count": 14,
   "metadata": {},
   "outputs": [
    {
     "name": "stdout",
     "output_type": "stream",
     "text": [
      "Srinagar\n"
     ]
    }
   ],
   "source": [
    "print(city)"
   ]
  },
  {
   "cell_type": "code",
   "execution_count": 16,
   "metadata": {},
   "outputs": [
    {
     "data": {
      "text/plain": [
       "Srinagar     657\n",
       "Sopore       102\n",
       "Unknown       86\n",
       "Anantnag      76\n",
       "Jammu         57\n",
       "            ... \n",
       "Bragam         1\n",
       "Narsu          1\n",
       "Lasjan         1\n",
       "Goriwan        1\n",
       "Lethapora      1\n",
       "Name: City, Length: 633, dtype: int64"
      ]
     },
     "execution_count": 16,
     "metadata": {},
     "output_type": "execute_result"
    }
   ],
   "source": [
    "city_list"
   ]
  },
  {
   "cell_type": "code",
   "execution_count": 18,
   "metadata": {},
   "outputs": [],
   "source": [
    "attack = city_list.values[0]"
   ]
  },
  {
   "cell_type": "code",
   "execution_count": 19,
   "metadata": {},
   "outputs": [
    {
     "name": "stdout",
     "output_type": "stream",
     "text": [
      "657\n"
     ]
    }
   ],
   "source": [
    "print(attack)"
   ]
  },
  {
   "cell_type": "code",
   "execution_count": 20,
   "metadata": {},
   "outputs": [
    {
     "name": "stdout",
     "output_type": "stream",
     "text": [
      "Srinagar 657\n"
     ]
    }
   ],
   "source": [
    "print(city,attack)"
   ]
  },
  {
   "cell_type": "code",
   "execution_count": 21,
   "metadata": {},
   "outputs": [],
   "source": [
    "group =  df['Group'].value_counts()"
   ]
  },
  {
   "cell_type": "code",
   "execution_count": 22,
   "metadata": {},
   "outputs": [
    {
     "data": {
      "text/plain": [
       "Unknown                             1471\n",
       "Hizbul Mujahideen (HM)               193\n",
       "Lashkar-e-Taiba (LeT)                165\n",
       "Muslim Separatists                   113\n",
       "Kashmiri extremists                   73\n",
       "                                    ... \n",
       "Afghan Merceneries                     1\n",
       "Al-Hamas Mujahideen                    1\n",
       "Jamaat-E-Islami (India/Pakistan)       1\n",
       "Guerrillas                             1\n",
       "Ansar Ghazwat-ul-Hind                  1\n",
       "Name: Group, Length: 65, dtype: int64"
      ]
     },
     "execution_count": 22,
     "metadata": {},
     "output_type": "execute_result"
    }
   ],
   "source": [
    "group"
   ]
  },
  {
   "cell_type": "code",
   "execution_count": 23,
   "metadata": {},
   "outputs": [],
   "source": [
    "attacking_group = group.index[1]"
   ]
  },
  {
   "cell_type": "code",
   "execution_count": 24,
   "metadata": {},
   "outputs": [
    {
     "name": "stdout",
     "output_type": "stream",
     "text": [
      "Srinagar 657 Hizbul Mujahideen (HM)\n"
     ]
    }
   ],
   "source": [
    "print(city,attack,attacking_group)"
   ]
  }
 ],
 "metadata": {
  "kernelspec": {
   "display_name": "Python 3",
   "language": "python",
   "name": "python3"
  },
  "language_info": {
   "codemirror_mode": {
    "name": "ipython",
    "version": 3
   },
   "file_extension": ".py",
   "mimetype": "text/x-python",
   "name": "python",
   "nbconvert_exporter": "python",
   "pygments_lexer": "ipython3",
   "version": "3.11.2"
  },
  "orig_nbformat": 4
 },
 "nbformat": 4,
 "nbformat_minor": 2
}
